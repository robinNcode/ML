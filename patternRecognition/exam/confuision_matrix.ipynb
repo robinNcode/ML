{
 "cells": [
  {
   "cell_type": "code",
   "execution_count": 9,
   "metadata": {},
   "outputs": [
    {
     "name": "stdout",
     "output_type": "stream",
     "text": [
      "[127118.93660552  81917.15943874 101742.54912834  50145.16378117\n",
      " 129373.16818557  49757.57167178 113022.62322056 104001.39953269\n",
      " 102939.02764701 122404.78349518 128701.99210736 169513.10305243\n",
      "  86579.49881496 151270.59121758 171429.21300752]\n",
      "13    134307.35\n",
      "39     81005.76\n",
      "30     99937.59\n",
      "45     64926.08\n",
      "17    125370.37\n",
      "48     35673.41\n",
      "26    105733.54\n",
      "25    107404.34\n",
      "32     97427.84\n",
      "19    122776.86\n",
      "12    141585.52\n",
      "4     166187.94\n",
      "37     89949.14\n",
      "8     152211.77\n",
      "3     182901.99\n",
      "Name: Profit, dtype: float64\n"
     ]
    },
    {
     "data": {
      "image/png": "[encoded data removed]",
      "text/plain": [
       "<Figure size 432x288 with 1 Axes>"
      ]
     },
     "metadata": {
      "needs_background": "light"
     },
     "output_type": "display_data"
    }
   ],
   "source": [
    "import pandas\n",
    "from sklearn.model_selection import train_test_split as tts\n",
    "from sklearn.linear_model import LinearRegression\n",
    "# import ploting library\n",
    "import matplotlib.pyplot as plt\n",
    "\n",
    "data = pandas.read_csv('..\\companyStartUp\\startups.csv')\n",
    "\n",
    "rdSpend = data[['R&DSpend']] # independent variable\n",
    "profit = data['Profit'] # dependent variable\n",
    "\n",
    "# plot the relationship between R&D Spend and Profit\n",
    "plt.scatter(rdSpend, profit)\n",
    "plt.xlabel('R&D Spend')\n",
    "plt.ylabel('Profit')\n",
    "# plt.show()\n",
    "\n",
    "# split the data into training and testing sets\n",
    "X_train, X_test, y_train, y_test = tts(rdSpend, profit, test_size=0.3, random_state=42)\n",
    "\n",
    "# create a linear regression model\n",
    "reg = LinearRegression()\n",
    "reg.fit(X_train, y_train)\n",
    "\n",
    "# predict the profit for the test set\n",
    "y_pred = reg.predict(X_test)\n",
    "\n",
    "print(y_pred)\n",
    "print(y_test)\n",
    "\n"
   ]
  }
 ],
 "metadata": {
  "kernelspec": {
   "display_name": "Python 3.9.6 64-bit",
   "language": "python",
   "name": "python3"
  },
  "language_info": {
   "codemirror_mode": {
    "name": "ipython",
    "version": 3
   },
   "file_extension": ".py",
   "mimetype": "text/x-python",
   "name": "python",
   "nbconvert_exporter": "python",
   "pygments_lexer": "ipython3",
   "version": "3.9.6"
  },
  "orig_nbformat": 4,
  "vscode": {
   "interpreter": {
    "hash": "79033214b8e24319e331967a130cab78b3958a0a69b20cd902fc3976be47d058"
   }
  }
 },
 "nbformat": 4,
 "nbformat_minor": 2
}

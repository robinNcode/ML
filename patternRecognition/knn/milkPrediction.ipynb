{
 "cells": [
  {
   "cell_type": "code",
   "execution_count": 9,
   "metadata": {},
   "outputs": [
    {
     "name": "stdout",
     "output_type": "stream",
     "text": [
      "    pH  Temprature  Taste  Odor  Fat  Turbidity  Colour   Grade\n",
      "0  6.6          35      1     0    1          0     254    high\n",
      "1  6.6          36      0     1    0          1     253    high\n",
      "2  8.5          70      1     1    1          1     246     low\n",
      "3  9.5          34      1     1    0          1     255     low\n",
      "4  6.6          37      0     0    0          0     255  medium\n"
     ]
    },
    {
     "data": {
      "image/png": "[encoded data removed]",
      "text/plain": [
       "<Figure size 432x288 with 1 Axes>"
      ]
     },
     "metadata": {
      "needs_background": "light"
     },
     "output_type": "display_data"
    },
    {
     "name": "stdout",
     "output_type": "stream",
     "text": [
      "['high' 'low' 'low' 'medium' 'medium' 'low' 'low' 'high' 'low' 'medium'\n",
      " 'low' 'medium' 'high' 'medium' 'low' 'low' 'high' 'medium' 'medium'\n",
      " 'medium' 'low' 'medium' 'high' 'medium' 'medium' 'medium' 'medium' 'high'\n",
      " 'low' 'low' 'medium' 'high' 'high' 'medium' 'high' 'medium' 'medium'\n",
      " 'high' 'medium' 'medium' 'low' 'low' 'low' 'medium' 'high' 'low' 'high'\n",
      " 'high' 'medium' 'high' 'medium' 'low' 'low' 'medium' 'medium' 'low'\n",
      " 'high' 'low' 'low' 'medium' 'medium' 'low' 'high' 'high' 'high' 'low'\n",
      " 'medium' 'medium' 'low' 'high' 'low' 'low' 'high' 'medium' 'low' 'low'\n",
      " 'low' 'medium' 'low' 'medium' 'medium' 'medium' 'high' 'high' 'medium'\n",
      " 'medium' 'medium' 'low' 'medium' 'high' 'low' 'low' 'high' 'medium' 'low'\n",
      " 'medium' 'high' 'high' 'low' 'high' 'low' 'low' 'low' 'low' 'medium'\n",
      " 'medium' 'low' 'low' 'medium' 'high' 'high' 'medium' 'medium' 'low'\n",
      " 'high' 'low' 'medium' 'low' 'medium' 'high' 'medium' 'low' 'low' 'low'\n",
      " 'medium' 'high' 'medium' 'medium' 'high' 'medium' 'low' 'medium' 'low'\n",
      " 'medium' 'low' 'low' 'medium' 'low' 'medium' 'medium' 'medium' 'high'\n",
      " 'low' 'medium' 'low' 'low' 'high' 'low' 'low' 'medium' 'medium' 'medium'\n",
      " 'medium' 'low' 'medium' 'low' 'low' 'high' 'low' 'high' 'medium' 'medium'\n",
      " 'medium' 'low' 'medium' 'high' 'low' 'low' 'medium' 'low' 'medium' 'high'\n",
      " 'low' 'low' 'high' 'low' 'medium' 'medium' 'medium' 'medium' 'low'\n",
      " 'medium' 'high' 'low' 'high' 'low' 'medium' 'high' 'medium' 'low' 'low'\n",
      " 'medium' 'medium' 'low' 'high' 'low' 'low' 'high' 'medium' 'medium'\n",
      " 'medium' 'medium' 'high' 'high' 'medium' 'low' 'medium' 'medium' 'medium'\n",
      " 'medium' 'high' 'high']\n"
     ]
    }
   ],
   "source": [
    "import pandas\n",
    "# from sklearn import knn \n",
    "from sklearn.neighbors import KNeighborsClassifier\n",
    "from sklearn.model_selection import train_test_split\n",
    "\n",
    "# ploting libraries\n",
    "import matplotlib.pyplot as plt\n",
    "\n",
    "data = pandas.read_csv('..\\milkQualityPrediction\\milknew.csv')\n",
    "\n",
    "# data preprocessing\n",
    "# data.drop(['pH'], axis=1, inplace=True)\n",
    "# data.drop(['Fat'], axis=1, inplace=True)\n",
    "# data.drop(['Temprature'], axis=1, inplace=True)\n",
    "# data.drop(['Taste'], axis=1, inplace=True)\n",
    "# data.drop(['Odor'], axis=1, inplace=True)\n",
    "# data.drop(['Turbidity'], axis=1, inplace=True)\n",
    "# data.drop(['Colour'], axis=1, inplace=True)\n",
    "# data.drop(['Grade'], axis=1, inplace=True)\n",
    "\n",
    "print(data.head())\n",
    "\n",
    "# plot the data\n",
    "plt.scatter(data['pH'], data['Grade'])\n",
    "plt.xlabel('pH')\n",
    "plt.ylabel('Grade')\n",
    "plt.show()\n",
    "\n",
    "# split the data into training and testing data\n",
    "X = data.drop(['Grade'], axis=1)\n",
    "y = data['Grade']\n",
    "X_train, X_test, y_train, y_test = train_test_split(X, y, test_size=0.2, random_state=42)\n",
    "\n",
    "# create the model\n",
    "model = KNeighborsClassifier(n_neighbors=3)\n",
    "model.fit(X_train, y_train)\n",
    "\n",
    "# predict the model\n",
    "predictions = model.predict(X_test)\n",
    "\n",
    "print(predictions)"
   ]
  }
 ],
 "metadata": {
  "kernelspec": {
   "display_name": "Python 3.9.6 64-bit",
   "language": "python",
   "name": "python3"
  },
  "language_info": {
   "codemirror_mode": {
    "name": "ipython",
    "version": 3
   },
   "file_extension": ".py",
   "mimetype": "text/x-python",
   "name": "python",
   "nbconvert_exporter": "python",
   "pygments_lexer": "ipython3",
   "version": "3.9.6"
  },
  "orig_nbformat": 4,
  "vscode": {
   "interpreter": {
    "hash": "79033214b8e24319e331967a130cab78b3958a0a69b20cd902fc3976be47d058"
   }
  }
 },
 "nbformat": 4,
 "nbformat_minor": 2
}
